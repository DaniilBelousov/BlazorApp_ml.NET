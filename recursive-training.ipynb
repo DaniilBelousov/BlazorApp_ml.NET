{
 "cells": [
  {
   "cell_type": "code",
   "execution_count": 1,
   "metadata": {
    "_cell_guid": "b1076dfc-b9ad-4769-8c92-a6c4dae69d19",
    "_uuid": "8f2839f25d086af736a60e9eeb907d3b93b6e0e5",
    "execution": {
     "iopub.execute_input": "2020-10-07T13:01:58.917133Z",
     "iopub.status.busy": "2020-10-07T13:01:58.916436Z",
     "iopub.status.idle": "2020-10-07T13:02:00.578727Z",
     "shell.execute_reply": "2020-10-07T13:02:00.577544Z"
    },
    "papermill": {
     "duration": 1.691025,
     "end_time": "2020-10-07T13:02:00.578893",
     "exception": false,
     "start_time": "2020-10-07T13:01:58.887868",
     "status": "completed"
    },
    "tags": []
   },
   "outputs": [],
   "source": [
    "%matplotlib inline\n",
    "%config InlineBackend.figure_format = 'retina'\n",
    "import matplotlib.pyplot as plt\n",
    "import numpy as np\n",
    "import torch\n",
    "from torch import nn\n",
    "from torch import optim\n",
    "import torch.nn.functional as F\n",
    "from torchvision import datasets, transforms, models\n",
    "from torch.optim.lr_scheduler import StepLR\n",
    "import psutil\n",
    "import os"
   ]
  },
  {
   "cell_type": "code",
   "execution_count": 2,
   "metadata": {
    "_cell_guid": "79c7e3d0-c299-4dcb-8224-4455121ee9b0",
    "_uuid": "d629ff2d2480ee46fbb7e2d37f6b5fab8052498a",
    "execution": {
     "iopub.execute_input": "2020-10-07T13:02:00.605577Z",
     "iopub.status.busy": "2020-10-07T13:02:00.599407Z",
     "iopub.status.idle": "2020-10-07T13:02:30.649145Z",
     "shell.execute_reply": "2020-10-07T13:02:30.649656Z"
    },
    "papermill": {
     "duration": 30.064574,
     "end_time": "2020-10-07T13:02:30.649785",
     "exception": false,
     "start_time": "2020-10-07T13:02:00.585211",
     "status": "completed"
    },
    "tags": []
   },
   "outputs": [
    {
     "name": "stdout",
     "output_type": "stream",
     "text": [
      "['001', '002', '003', '004', '005', '006', '007', '008', '009', '010', '011', '012', '013', '014', '015', '016', '017', '018', '019', '020', '021', '022', '023', '024', '025', '026', '027', '028', '029', '030', '031', '032', '033', '034', '035', '036', '037', '038', '039', '040', '041', '042', '043', '044', '045', '046', '047', '048', '049', '050', '051', '052', '053', '054', '055', '056', '057', '058', '059', '060', '061', '062', '063', '064', '065', '066', '067', '068', '069', '070', '071', '072', '073', '074', '075', '076', '077', '078', '079', '080', '081', '082', '083', '084', '085', '086', '087', '088', '089', '090', '091', '092', '093', '094', '095', '096', '097', '098', '099', '100']\n"
     ]
    }
   ],
   "source": [
    "data_dir = '../input/age-predict/train'\n",
    "def load_split_train_test(datadir, valid_size = .1):\n",
    "    train_transforms = transforms.Compose([transforms.Resize((224,224)),\n",
    "                                           transforms.RandomCrop([196, 196]),\n",
    "                                           transforms.RandomHorizontalFlip(),\n",
    "                                           transforms.ToTensor(),\n",
    "                                           transforms.Normalize(mean=[0.485, 0.456, 0.406],std=[0.229, 0.224, 0.225]),\n",
    "                                          ])\n",
    "    test_transforms = transforms.Compose([transforms.Resize((224,224)),\n",
    "                                          transforms.ToTensor(),\n",
    "                                          transforms.Normalize(mean=[0.485, 0.456, 0.406],std=[0.229, 0.224, 0.225]),\n",
    "                                         ])\n",
    "    train_data = datasets.ImageFolder(datadir, transform=train_transforms)\n",
    "    test_data = datasets.ImageFolder(datadir, transform=test_transforms)    \n",
    "    num_train = len(train_data)\n",
    "    indices = list(range(num_train))\n",
    "    split = int(np.floor(valid_size * num_train))\n",
    "    np.random.shuffle(indices)\n",
    "    from torch.utils.data.sampler import SubsetRandomSampler\n",
    "    train_idx, test_idx = indices[split:], indices[:split]\n",
    "    train_sampler = SubsetRandomSampler(train_idx)\n",
    "    test_sampler = SubsetRandomSampler(test_idx)\n",
    "    trainloader = torch.utils.data.DataLoader(train_data,\n",
    "                   sampler=train_sampler, batch_size=64)\n",
    "    testloader = torch.utils.data.DataLoader(test_data,\n",
    "                   sampler=test_sampler, batch_size=64)\n",
    "    return trainloader, testloader\n",
    "trainloader, testloader = load_split_train_test(data_dir, .2)\n",
    "print(trainloader.dataset.classes)"
   ]
  },
  {
   "cell_type": "code",
   "execution_count": 3,
   "metadata": {
    "execution": {
     "iopub.execute_input": "2020-10-07T13:02:31.020741Z",
     "iopub.status.busy": "2020-10-07T13:02:31.019951Z",
     "iopub.status.idle": "2020-10-07T13:02:31.826699Z",
     "shell.execute_reply": "2020-10-07T13:02:31.827244Z"
    },
    "papermill": {
     "duration": 1.171236,
     "end_time": "2020-10-07T13:02:31.827384",
     "exception": false,
     "start_time": "2020-10-07T13:02:30.656148",
     "status": "completed"
    },
    "tags": []
   },
   "outputs": [
    {
     "name": "stderr",
     "output_type": "stream",
     "text": [
      "Downloading: \"https://download.pytorch.org/models/resnet18-5c106cde.pth\" to /root/.cache/torch/hub/checkpoints/resnet18-5c106cde.pth\n"
     ]
    },
    {
     "data": {
      "application/vnd.jupyter.widget-view+json": {
       "model_id": "ac840008999a498baf8a6205a6df8c53",
       "version_major": 2,
       "version_minor": 0
      },
      "text/plain": [
       "HBox(children=(FloatProgress(value=0.0, max=46827520.0), HTML(value='')))"
      ]
     },
     "metadata": {},
     "output_type": "display_data"
    },
    {
     "name": "stdout",
     "output_type": "stream",
     "text": [
      "\n",
      "cuda\n"
     ]
    }
   ],
   "source": [
    "device = torch.device(\"cuda\" if torch.cuda.is_available() \n",
    "                                  else \"cpu\")\n",
    "model = models.resnet18(pretrained=True)\n",
    "print(device)"
   ]
  },
  {
   "cell_type": "code",
   "execution_count": 4,
   "metadata": {
    "execution": {
     "iopub.execute_input": "2020-10-07T13:02:31.850965Z",
     "iopub.status.busy": "2020-10-07T13:02:31.850100Z",
     "iopub.status.idle": "2020-10-07T13:02:36.966737Z",
     "shell.execute_reply": "2020-10-07T13:02:36.967436Z"
    },
    "papermill": {
     "duration": 5.132497,
     "end_time": "2020-10-07T13:02:36.967644",
     "exception": false,
     "start_time": "2020-10-07T13:02:31.835147",
     "status": "completed"
    },
    "tags": []
   },
   "outputs": [],
   "source": [
    "for param in model.parameters():\n",
    "    param.requires_grad = True\n",
    "    \n",
    "model.fc = nn.Sequential(nn.Linear(512, 128),\n",
    "                         nn.ReLU(),\n",
    "                         nn.Dropout(0.2),\n",
    "                         nn.Linear(128, 1))\n",
    "criterion = nn.MSELoss()\n",
    "optimizer = optim.Adam(model.parameters(), lr=0.0015)\n",
    "scheduler = StepLR(optimizer, step_size=1, gamma=0.1)\n",
    "model.to(device);"
   ]
  },
  {
   "cell_type": "code",
   "execution_count": 5,
   "metadata": {
    "execution": {
     "iopub.execute_input": "2020-10-07T13:02:36.993133Z",
     "iopub.status.busy": "2020-10-07T13:02:36.992402Z",
     "iopub.status.idle": "2020-10-07T13:02:36.996470Z",
     "shell.execute_reply": "2020-10-07T13:02:36.996007Z"
    },
    "papermill": {
     "duration": 0.020566,
     "end_time": "2020-10-07T13:02:36.996575",
     "exception": false,
     "start_time": "2020-10-07T13:02:36.976009",
     "status": "completed"
    },
    "tags": []
   },
   "outputs": [],
   "source": [
    "def forward_model_train(inputs, labels):\n",
    "    inputs, labels = inputs.to(device), labels.to(device).type(torch.float32)\n",
    "    #sceduler\n",
    "    optimizer.zero_grad()\n",
    "    #scheduler.step()\n",
    "    logps = torch.flatten(model.forward(inputs))\n",
    "    loss = criterion(logps, labels)\n",
    "    loss.backward()\n",
    "    optimizer.step()\n",
    "    return loss.item()\n",
    "def forward_model_val(inputs, labels):\n",
    "    inputs, labels = inputs.to(device), labels.to(device).type(torch.float32)\n",
    "    logps = torch.flatten(model.forward(inputs))\n",
    "    batch_loss = criterion(logps, labels)\n",
    "    return batch_loss.item()"
   ]
  },
  {
   "cell_type": "code",
   "execution_count": 6,
   "metadata": {
    "execution": {
     "iopub.execute_input": "2020-10-07T13:02:37.022397Z",
     "iopub.status.busy": "2020-10-07T13:02:37.021647Z",
     "iopub.status.idle": "2020-10-07T15:55:22.558171Z",
     "shell.execute_reply": "2020-10-07T15:55:22.557555Z"
    },
    "papermill": {
     "duration": 10365.553609,
     "end_time": "2020-10-07T15:55:22.558316",
     "exception": false,
     "start_time": "2020-10-07T13:02:37.004707",
     "status": "completed"
    },
    "tags": []
   },
   "outputs": [
    {
     "name": "stderr",
     "output_type": "stream",
     "text": [
      "/opt/conda/lib/python3.7/site-packages/torch/optim/lr_scheduler.py:351: UserWarning: To get the last learning rate computed by the scheduler, please use `get_last_lr()`.\n",
      "  \"please use `get_last_lr()`.\", UserWarning)\n",
      "/opt/conda/lib/python3.7/site-packages/torch/optim/lr_scheduler.py:123: UserWarning: Detected call of `lr_scheduler.step()` before `optimizer.step()`. In PyTorch 1.1.0 and later, you should call them in the opposite order: `optimizer.step()` before `lr_scheduler.step()`.  Failure to do this will result in PyTorch skipping the first value of the learning rate schedule. See more details at https://pytorch.org/docs/stable/optim.html#how-to-adjust-learning-rate\n",
      "  \"https://pytorch.org/docs/stable/optim.html#how-to-adjust-learning-rate\", UserWarning)\n"
     ]
    },
    {
     "name": "stdout",
     "output_type": "stream",
     "text": [
      "[0.0015]\n",
      "[1.5000000000000002e-05]\n",
      "Epoch 1/1.. Train loss: 1098.663.. Test loss: 656.495.. \n",
      "Epoch 1/1.. Train loss: 335.468.. Test loss: 176.372.. \n",
      "Epoch 1/1.. Train loss: 120.209.. Test loss: 117.398.. \n",
      "Epoch 1/1.. Train loss: 112.075.. Test loss: 153.606.. \n",
      "Epoch 1/1.. Train loss: 101.299.. Test loss: 129.408.. \n",
      "Epoch 1/1.. Train loss: 94.709.. Test loss: 104.504.. \n",
      "Epoch 1/1.. Train loss: 98.687.. Test loss: 110.370.. \n",
      "Epoch 1/1.. Train loss: 98.003.. Test loss: 118.351.. \n",
      "Epoch 1/1.. Train loss: 100.726.. Test loss: 130.199.. \n",
      "Epoch 1/1.. Train loss: 98.093.. Test loss: 149.982.. \n",
      "Epoch 1/1.. Train loss: 90.985.. Test loss: 89.189.. \n",
      "Epoch 1/1.. Train loss: 96.828.. Test loss: 89.196.. \n",
      "Epoch 1/1.. Train loss: 94.604.. Test loss: 108.263.. \n",
      "Epoch 1/1.. Train loss: 88.245.. Test loss: 103.542.. \n",
      "Epoch 1/1.. Train loss: 93.010.. Test loss: 120.712.. \n",
      "Epoch 1/1.. Train loss: 90.609.. Test loss: 120.807.. \n",
      "Epoch 1/1.. Train loss: 92.224.. Test loss: 99.783.. \n",
      "Epoch 1/1.. Train loss: 90.041.. Test loss: 114.166.. \n",
      "Epoch 1/1.. Train loss: 85.354.. Test loss: 99.085.. \n",
      "Epoch 1/1.. Train loss: 87.928.. Test loss: 89.761.. \n",
      "Epoch 1/1.. Train loss: 86.681.. Test loss: 80.339.. \n",
      "Epoch 1/1.. Train loss: 86.674.. Test loss: 79.934.. \n",
      "Epoch 1/1.. Train loss: 86.775.. Test loss: 100.524.. \n",
      "Epoch 1/1.. Train loss: 82.010.. Test loss: 81.427.. \n",
      "Epoch 1/1.. Train loss: 82.139.. Test loss: 99.114.. \n",
      "Epoch 1/1.. Train loss: 86.232.. Test loss: 100.259.. \n",
      "Epoch 1/1.. Train loss: 79.764.. Test loss: 93.817.. \n",
      "Epoch 1/1.. Train loss: 83.534.. Test loss: 81.733.. \n",
      "Epoch 1/1.. Train loss: 77.059.. Test loss: 148.661.. \n",
      "Epoch 1/1.. Train loss: 81.992.. Test loss: 84.779.. \n",
      "Epoch 1/1.. Train loss: 82.183.. Test loss: 86.641.. \n",
      "Epoch 1/1.. Train loss: 84.718.. Test loss: 92.572.. \n",
      "Epoch 1/1.. Train loss: 79.415.. Test loss: 105.305.. \n",
      "Epoch 1/1.. Train loss: 85.918.. Test loss: 122.415.. \n",
      "Epoch 1/1.. Train loss: 82.330.. Test loss: 77.468.. \n",
      "Epoch 1/1.. Train loss: 85.595.. Test loss: 76.443.. \n",
      "Epoch 1/1.. Train loss: 80.714.. Test loss: 73.914.. \n",
      "Epoch 1/1.. Train loss: 74.024.. Test loss: 82.763.. \n",
      "Epoch 1/1.. Train loss: 82.309.. Test loss: 97.123.. \n",
      "Epoch 1/1.. Train loss: 84.383.. Test loss: 116.486.. \n",
      "Epoch 1/1.. Train loss: 76.219.. Test loss: 72.996.. \n",
      "Epoch 1/1.. Train loss: 81.215.. Test loss: 89.531.. \n",
      "Epoch 1/1.. Train loss: 83.558.. Test loss: 72.354.. \n",
      "Epoch 1/1.. Train loss: 82.693.. Test loss: 98.027.. \n",
      "Epoch 1/1.. Train loss: 78.411.. Test loss: 74.851.. \n",
      "Epoch 1/1.. Train loss: 76.395.. Test loss: 76.319.. \n",
      "Epoch 1/1.. Train loss: 80.651.. Test loss: 96.342.. \n",
      "Epoch 1/1.. Train loss: 80.886.. Test loss: 86.025.. \n",
      "Epoch 1/1.. Train loss: 76.761.. Test loss: 76.918.. \n",
      "Epoch 1/1.. Train loss: 75.465.. Test loss: 74.388.. \n",
      "Epoch 1/1.. Train loss: 74.797.. Test loss: 86.588.. \n",
      "Epoch 1/1.. Train loss: 76.653.. Test loss: 74.827.. \n",
      "Epoch 1/1.. Train loss: 78.076.. Test loss: 72.470.. \n",
      "Epoch 1/1.. Train loss: 82.213.. Test loss: 120.456.. \n",
      "Epoch 1/1.. Train loss: 83.228.. Test loss: 83.070.. \n",
      "Epoch 1/1.. Train loss: 81.047.. Test loss: 74.120.. \n",
      "Epoch 1/1.. Train loss: 80.999.. Test loss: 76.535.. \n",
      "Epoch 1/1.. Train loss: 74.890.. Test loss: 76.287.. \n",
      "Epoch 1/1.. Train loss: 75.451.. Test loss: 73.139.. \n"
     ]
    }
   ],
   "source": [
    "epochs = 1\n",
    "steps = 0\n",
    "running_loss = 0\n",
    "print_every = 50\n",
    "train_losses, test_losses = [], []\n",
    "for epoch in range(epochs):\n",
    "    print(scheduler.get_lr())\n",
    "    scheduler.step()\n",
    "    print(scheduler.get_lr())\n",
    "    for inputs, labels in trainloader:\n",
    "        steps += 1\n",
    "        running_loss += forward_model_train(inputs, labels)\n",
    "        #torch.cuda.ipc_collect()\n",
    "        if steps % print_every == 0:\n",
    "            test_loss = 0\n",
    "            accuracy = 0\n",
    "            model.eval()\n",
    "            with torch.no_grad():\n",
    "                for inputs, labels in testloader:\n",
    "                    test_loss += forward_model_val(inputs, labels)\n",
    "                    #torch.cuda.ipc_collect()\n",
    "                    \n",
    "            print(f\"Epoch {epoch + 1}/{epochs}.. \"\n",
    "                  f\"Train loss: {running_loss / print_every:.3f}.. \"\n",
    "                  f\"Test loss: {test_loss / len(testloader):.3f}.. \")\n",
    "            running_loss = 0\n",
    "            model.train()\n",
    "torch.save(model, 'aerialmodel.pth')"
   ]
  },
  {
   "cell_type": "code",
   "execution_count": null,
   "metadata": {
    "papermill": {
     "duration": 0.027736,
     "end_time": "2020-10-07T15:55:22.614294",
     "exception": false,
     "start_time": "2020-10-07T15:55:22.586558",
     "status": "completed"
    },
    "tags": []
   },
   "outputs": [],
   "source": []
  }
 ],
 "metadata": {
  "kernelspec": {
   "display_name": "Python 3",
   "language": "python",
   "name": "python3"
  },
  "language_info": {
   "codemirror_mode": {
    "name": "ipython",
    "version": 3
   },
   "file_extension": ".py",
   "mimetype": "text/x-python",
   "name": "python",
   "nbconvert_exporter": "python",
   "pygments_lexer": "ipython3",
   "version": "3.7.6"
  },
  "papermill": {
   "duration": 10408.551769,
   "end_time": "2020-10-07T15:55:23.151453",
   "environment_variables": {},
   "exception": null,
   "input_path": "__notebook__.ipynb",
   "output_path": "__notebook__.ipynb",
   "parameters": {},
   "start_time": "2020-10-07T13:01:54.599684",
   "version": "2.1.0"
  },
  "widgets": {
   "application/vnd.jupyter.widget-state+json": {
    "state": {
     "2c692d64e7e4469caf468c372a4bed95": {
      "model_module": "@jupyter-widgets/controls",
      "model_module_version": "1.5.0",
      "model_name": "HTMLModel",
      "state": {
       "_dom_classes": [],
       "_model_module": "@jupyter-widgets/controls",
       "_model_module_version": "1.5.0",
       "_model_name": "HTMLModel",
       "_view_count": null,
       "_view_module": "@jupyter-widgets/controls",
       "_view_module_version": "1.5.0",
       "_view_name": "HTMLView",
       "description": "",
       "description_tooltip": null,
       "layout": "IPY_MODEL_877196d6021645c18a469288dcf02bdb",
       "placeholder": "​",
       "style": "IPY_MODEL_74612ebe18574afda7097e9f8e97b7d2",
       "value": " 44.7M/44.7M [00:00&lt;00:00, 176MB/s]"
      }
     },
     "5aa4c19ec12147108c733c5772265c6e": {
      "model_module": "@jupyter-widgets/controls",
      "model_module_version": "1.5.0",
      "model_name": "ProgressStyleModel",
      "state": {
       "_model_module": "@jupyter-widgets/controls",
       "_model_module_version": "1.5.0",
       "_model_name": "ProgressStyleModel",
       "_view_count": null,
       "_view_module": "@jupyter-widgets/base",
       "_view_module_version": "1.2.0",
       "_view_name": "StyleView",
       "bar_color": null,
       "description_width": "initial"
      }
     },
     "74612ebe18574afda7097e9f8e97b7d2": {
      "model_module": "@jupyter-widgets/controls",
      "model_module_version": "1.5.0",
      "model_name": "DescriptionStyleModel",
      "state": {
       "_model_module": "@jupyter-widgets/controls",
       "_model_module_version": "1.5.0",
       "_model_name": "DescriptionStyleModel",
       "_view_count": null,
       "_view_module": "@jupyter-widgets/base",
       "_view_module_version": "1.2.0",
       "_view_name": "StyleView",
       "description_width": ""
      }
     },
     "7fd5672897544336ae387f1a6bef87fe": {
      "model_module": "@jupyter-widgets/base",
      "model_module_version": "1.2.0",
      "model_name": "LayoutModel",
      "state": {
       "_model_module": "@jupyter-widgets/base",
       "_model_module_version": "1.2.0",
       "_model_name": "LayoutModel",
       "_view_count": null,
       "_view_module": "@jupyter-widgets/base",
       "_view_module_version": "1.2.0",
       "_view_name": "LayoutView",
       "align_content": null,
       "align_items": null,
       "align_self": null,
       "border": null,
       "bottom": null,
       "display": null,
       "flex": null,
       "flex_flow": null,
       "grid_area": null,
       "grid_auto_columns": null,
       "grid_auto_flow": null,
       "grid_auto_rows": null,
       "grid_column": null,
       "grid_gap": null,
       "grid_row": null,
       "grid_template_areas": null,
       "grid_template_columns": null,
       "grid_template_rows": null,
       "height": null,
       "justify_content": null,
       "justify_items": null,
       "left": null,
       "margin": null,
       "max_height": null,
       "max_width": null,
       "min_height": null,
       "min_width": null,
       "object_fit": null,
       "object_position": null,
       "order": null,
       "overflow": null,
       "overflow_x": null,
       "overflow_y": null,
       "padding": null,
       "right": null,
       "top": null,
       "visibility": null,
       "width": null
      }
     },
     "877196d6021645c18a469288dcf02bdb": {
      "model_module": "@jupyter-widgets/base",
      "model_module_version": "1.2.0",
      "model_name": "LayoutModel",
      "state": {
       "_model_module": "@jupyter-widgets/base",
       "_model_module_version": "1.2.0",
       "_model_name": "LayoutModel",
       "_view_count": null,
       "_view_module": "@jupyter-widgets/base",
       "_view_module_version": "1.2.0",
       "_view_name": "LayoutView",
       "align_content": null,
       "align_items": null,
       "align_self": null,
       "border": null,
       "bottom": null,
       "display": null,
       "flex": null,
       "flex_flow": null,
       "grid_area": null,
       "grid_auto_columns": null,
       "grid_auto_flow": null,
       "grid_auto_rows": null,
       "grid_column": null,
       "grid_gap": null,
       "grid_row": null,
       "grid_template_areas": null,
       "grid_template_columns": null,
       "grid_template_rows": null,
       "height": null,
       "justify_content": null,
       "justify_items": null,
       "left": null,
       "margin": null,
       "max_height": null,
       "max_width": null,
       "min_height": null,
       "min_width": null,
       "object_fit": null,
       "object_position": null,
       "order": null,
       "overflow": null,
       "overflow_x": null,
       "overflow_y": null,
       "padding": null,
       "right": null,
       "top": null,
       "visibility": null,
       "width": null
      }
     },
     "958d4d9ad96b401482f1ce80751f2a7e": {
      "model_module": "@jupyter-widgets/controls",
      "model_module_version": "1.5.0",
      "model_name": "FloatProgressModel",
      "state": {
       "_dom_classes": [],
       "_model_module": "@jupyter-widgets/controls",
       "_model_module_version": "1.5.0",
       "_model_name": "FloatProgressModel",
       "_view_count": null,
       "_view_module": "@jupyter-widgets/controls",
       "_view_module_version": "1.5.0",
       "_view_name": "ProgressView",
       "bar_style": "success",
       "description": "100%",
       "description_tooltip": null,
       "layout": "IPY_MODEL_c819f035d7714b12aac4ce48a1d56604",
       "max": 46827520.0,
       "min": 0.0,
       "orientation": "horizontal",
       "style": "IPY_MODEL_5aa4c19ec12147108c733c5772265c6e",
       "value": 46827520.0
      }
     },
     "ac840008999a498baf8a6205a6df8c53": {
      "model_module": "@jupyter-widgets/controls",
      "model_module_version": "1.5.0",
      "model_name": "HBoxModel",
      "state": {
       "_dom_classes": [],
       "_model_module": "@jupyter-widgets/controls",
       "_model_module_version": "1.5.0",
       "_model_name": "HBoxModel",
       "_view_count": null,
       "_view_module": "@jupyter-widgets/controls",
       "_view_module_version": "1.5.0",
       "_view_name": "HBoxView",
       "box_style": "",
       "children": [
        "IPY_MODEL_958d4d9ad96b401482f1ce80751f2a7e",
        "IPY_MODEL_2c692d64e7e4469caf468c372a4bed95"
       ],
       "layout": "IPY_MODEL_7fd5672897544336ae387f1a6bef87fe"
      }
     },
     "c819f035d7714b12aac4ce48a1d56604": {
      "model_module": "@jupyter-widgets/base",
      "model_module_version": "1.2.0",
      "model_name": "LayoutModel",
      "state": {
       "_model_module": "@jupyter-widgets/base",
       "_model_module_version": "1.2.0",
       "_model_name": "LayoutModel",
       "_view_count": null,
       "_view_module": "@jupyter-widgets/base",
       "_view_module_version": "1.2.0",
       "_view_name": "LayoutView",
       "align_content": null,
       "align_items": null,
       "align_self": null,
       "border": null,
       "bottom": null,
       "display": null,
       "flex": null,
       "flex_flow": null,
       "grid_area": null,
       "grid_auto_columns": null,
       "grid_auto_flow": null,
       "grid_auto_rows": null,
       "grid_column": null,
       "grid_gap": null,
       "grid_row": null,
       "grid_template_areas": null,
       "grid_template_columns": null,
       "grid_template_rows": null,
       "height": null,
       "justify_content": null,
       "justify_items": null,
       "left": null,
       "margin": null,
       "max_height": null,
       "max_width": null,
       "min_height": null,
       "min_width": null,
       "object_fit": null,
       "object_position": null,
       "order": null,
       "overflow": null,
       "overflow_x": null,
       "overflow_y": null,
       "padding": null,
       "right": null,
       "top": null,
       "visibility": null,
       "width": null
      }
     }
    },
    "version_major": 2,
    "version_minor": 0
   }
  }
 },
 "nbformat": 4,
 "nbformat_minor": 4
}
