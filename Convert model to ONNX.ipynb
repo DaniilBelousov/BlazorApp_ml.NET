{
 "cells": [
  {
   "cell_type": "code",
   "execution_count": 1,
   "metadata": {
    "_cell_guid": "79c7e3d0-c299-4dcb-8224-4455121ee9b0",
    "_uuid": "d629ff2d2480ee46fbb7e2d37f6b5fab8052498a",
    "execution": {
     "iopub.execute_input": "2020-10-08T13:42:46.679088Z",
     "iopub.status.busy": "2020-10-08T13:42:46.678506Z",
     "iopub.status.idle": "2020-10-08T13:42:48.002530Z",
     "shell.execute_reply": "2020-10-08T13:42:48.001559Z"
    },
    "papermill": {
     "duration": 1.332717,
     "end_time": "2020-10-08T13:42:48.002658",
     "exception": false,
     "start_time": "2020-10-08T13:42:46.669941",
     "status": "completed"
    },
    "tags": []
   },
   "outputs": [],
   "source": [
    "import torch"
   ]
  },
  {
   "cell_type": "code",
   "execution_count": 2,
   "metadata": {
    "execution": {
     "iopub.execute_input": "2020-10-08T13:42:48.015954Z",
     "iopub.status.busy": "2020-10-08T13:42:48.015366Z",
     "iopub.status.idle": "2020-10-08T13:42:53.654850Z",
     "shell.execute_reply": "2020-10-08T13:42:53.653901Z"
    },
    "papermill": {
     "duration": 5.647951,
     "end_time": "2020-10-08T13:42:53.654973",
     "exception": false,
     "start_time": "2020-10-08T13:42:48.007022",
     "status": "completed"
    },
    "tags": []
   },
   "outputs": [],
   "source": [
    "model = torch.load('../input/recursive-training/aerialmodel.pth')\n",
    "model = model.to('cpu')\n",
    "dummy_input = torch.randn(1, 3, 224, 224, device='cpu')"
   ]
  },
  {
   "cell_type": "code",
   "execution_count": 3,
   "metadata": {
    "execution": {
     "iopub.execute_input": "2020-10-08T13:42:53.670464Z",
     "iopub.status.busy": "2020-10-08T13:42:53.669707Z",
     "iopub.status.idle": "2020-10-08T13:42:54.447180Z",
     "shell.execute_reply": "2020-10-08T13:42:54.446622Z"
    },
    "papermill": {
     "duration": 0.788122,
     "end_time": "2020-10-08T13:42:54.447325",
     "exception": false,
     "start_time": "2020-10-08T13:42:53.659203",
     "status": "completed"
    },
    "tags": []
   },
   "outputs": [],
   "source": [
    "torch.onnx.export(model, dummy_input, \"aerialmodel.onnx\")"
   ]
  },
  {
   "cell_type": "code",
   "execution_count": null,
   "metadata": {
    "papermill": {
     "duration": 0.0039,
     "end_time": "2020-10-08T13:42:54.455734",
     "exception": false,
     "start_time": "2020-10-08T13:42:54.451834",
     "status": "completed"
    },
    "tags": []
   },
   "outputs": [],
   "source": []
  }
 ],
 "metadata": {
  "kernelspec": {
   "display_name": "Python 3",
   "language": "python",
   "name": "python3"
  },
  "language_info": {
   "codemirror_mode": {
    "name": "ipython",
    "version": 3
   },
   "file_extension": ".py",
   "mimetype": "text/x-python",
   "name": "python",
   "nbconvert_exporter": "python",
   "pygments_lexer": "ipython3",
   "version": "3.7.6"
  },
  "papermill": {
   "duration": 12.227175,
   "end_time": "2020-10-08T13:42:54.870383",
   "environment_variables": {},
   "exception": null,
   "input_path": "__notebook__.ipynb",
   "output_path": "__notebook__.ipynb",
   "parameters": {},
   "start_time": "2020-10-08T13:42:42.643208",
   "version": "2.1.0"
  }
 },
 "nbformat": 4,
 "nbformat_minor": 4
}
